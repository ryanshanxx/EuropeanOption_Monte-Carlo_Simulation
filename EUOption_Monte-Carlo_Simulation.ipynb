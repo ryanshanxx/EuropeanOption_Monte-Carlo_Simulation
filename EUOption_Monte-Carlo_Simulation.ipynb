{
 "cells": [
  {
   "cell_type": "code",
   "execution_count": 7,
   "metadata": {},
   "outputs": [
    {
     "name": "stdout",
     "output_type": "stream",
     "text": [
      "At the money call: 13.984884106748042 \n",
      "\tDelta: 0.5691283264579567 \n",
      "\tGamma: 0.010999176469290717 \n",
      "\tVega: 27.659964967589445\n",
      "At the money put: 14.049239239278938 \n",
      "\tDelta: -0.430228122216735 \n",
      "\tGamma: 0.010999176469292493 \n",
      "\tVega: 27.800906266580583\n",
      "Call struck at 110: 10.21741067551713 \n",
      "\tDelta: 0.46193926061603463 \n",
      "\tGamma: 0.01130604804680857 \n",
      "\tVega: 27.97444559471085\n",
      "Put struck at 90: 8.923934773735926 \n",
      "\tDelta: -0.317666499518352 \n",
      "\tGamma: 0.010130201050449372 \n",
      "\tVega: 25.224853616082044\n"
     ]
    }
   ],
   "source": [
    "import math\n",
    "import time\n",
    "import random\n",
    "import statistics\n",
    "\n",
    "#Option payoff struck at K\n",
    "S0, T, V, R, D = 100, 0.5, 0.5, 0, 0\n",
    "step=0.01\n",
    "def option_price(flag,K,S0,T,V,R,D):\n",
    "    random.seed(10)\n",
    "    mu, sigma, disc = (R-D-0.5*V*V)*T, V*math.sqrt(T), math.exp(-R*T)\n",
    "    stock_prices = [S0*random.lognormvariate(mu,sigma) for i in range(1000000)]\n",
    "    if flag == 'c':\n",
    "        def payoff(K):\n",
    "            return lambda S:(S-K) if S>K else 0\n",
    "    elif flag == 'p':\n",
    "        def payoff(K):\n",
    "            return lambda S:(K-S) if K>S else 0\n",
    "    return statistics.mean(map(payoff(K),stock_prices))*disc\n",
    "\n",
    "#Greeks struck at K\n",
    "def Delta(flag,K,S0,T,V,R,D):\n",
    "    return (option_price(flag,K,S0*(1+step),T,V,R,D)-option_price(flag,K,S0*(1-step),T,V,R,D))/(2*step*S0)\n",
    "\n",
    "def Gamma(flag,K,S0,T,V,R,D):\n",
    "    return (option_price(flag,K,S0*(1+step),T,V,R,D)-2*option_price(flag,K,S0,T,V,R,D)+option_price(flag,K,S0*(1-step),T,V,R,D))/((step*S0)*(step*S0))\n",
    "\n",
    "def Vega(flag,K,S0,T,V,R,D):\n",
    "    return (option_price(flag,K,S0,T,V*(1+step),R,D)-option_price(flag,K,S0,T,V*(1-step),R,D))/(2*step*V)\n",
    "\n",
    "#At the money call    \n",
    "print('At the money call:',option_price('c',100,100,T,V,R,D),'\\n\\tDelta:',Delta('c',100,100,T,V,R,D),'\\n\\tGamma:',Gamma('c',100,100,T,V,R,D),'\\n\\tVega:',Vega('c',100,100,T,V,R,D))\n",
    "\n",
    "#At the money put\n",
    "print('At the money put:',option_price('p',100,100,T,V,R,D),'\\n\\tDelta:',Delta('p',100,100,T,V,R,D),'\\n\\tGamma:',Gamma('p',100,100,T,V,R,D),'\\n\\tVega:',Vega('p',100,100,T,V,R,D))\n",
    "\n",
    "#call struck at 110\n",
    "print('Call struck at 110:',option_price('c',110,100,T,V,R,D),'\\n\\tDelta:',Delta('c',110,100,T,V,R,D),'\\n\\tGamma:',Gamma('c',110,100,T,V,R,D),'\\n\\tVega:',Vega('c',110,100,T,V,R,D))\n",
    "\n",
    "#put struck at 90\n",
    "print('Put struck at 90:',option_price('p',90,100,T,V,R,D),'\\n\\tDelta:',Delta('p',90,100,T,V,R,D),'\\n\\tGamma:',Gamma('p',90,100,T,V,R,D),'\\n\\tVega:',Vega('p',90,100,T,V,R,D))"
   ]
  },
  {
   "cell_type": "code",
   "execution_count": 8,
   "metadata": {},
   "outputs": [
    {
     "name": "stdout",
     "output_type": "stream",
     "text": [
      "At the money call: 14.031620480133384 \n",
      "At the money put: 14.031620480133384\n",
      "\n",
      "Call struck at 110: 10.259312807045426 \n",
      "Put struck at 90: 8.910830186741848\n"
     ]
    }
   ],
   "source": [
    "from scipy.stats import norm\n",
    "from math import *\n",
    "def BlackScholes(CallPutFlag,S,K,T,r,d,v):\n",
    "    d1 = (log(float(S)/K)+((r-d)+v*v/2.)*T)/(v*sqrt(T))\n",
    "    d2 = d1-v*sqrt(T)\n",
    "    if CallPutFlag=='c':\n",
    "        return S*exp(-d*T)*norm.cdf(d1)-K*exp(-r*T)*norm.cdf(d2)\n",
    "    if CallPutFlag=='p':\n",
    "        return K*exp(-r*T)*norm.cdf(-d2)-S*exp(-d*T)*norm.cdf(-d1)\n",
    "    \n",
    "print('At the money call:',BlackScholes('c',100,100,0.5,0,0,0.5),'\\nAt the money put:',BlackScholes('p',100,100,0.5,0,0,0.5))\n",
    "print('\\nCall struck at 110:',BlackScholes('c',100,110,0.5,0,0,0.5),'\\nPut struck at 90:',BlackScholes('p',100,90,0.5,0,0,0.5))"
   ]
  },
  {
   "cell_type": "code",
   "execution_count": 9,
   "metadata": {},
   "outputs": [
    {
     "name": "stdout",
     "output_type": "stream",
     "text": [
      "At the money call: (0.5701581024006669, 0.011108852695966625, 27.772131739916567) \n",
      "At the money put: (-0.4298418975993331, 0.011108852695966625, 27.772131739916567) \n",
      "Call struck at 110: (0.46303074782871545, 0.011235307769028785, 28.088269422571965) \n",
      "Put struck at 90 (-0.3174714544467202, 0.010081063063806543, 25.20265765951636)\n"
     ]
    }
   ],
   "source": [
    "def Black_Scholes_Greeks(CallPutFlag, S, K, T, r, d, v):\n",
    "    T_sqrt = sqrt(T)\n",
    "    d1 = (log(float(S)/K)+((r-d)+v*v/2.)*T)/(v*T_sqrt)\n",
    "    d2 = d1-v*T_sqrt\n",
    "    if CallPutFlag == 'c':\n",
    "        Delta = norm.cdf(d1)\n",
    "        Gamma = norm.pdf(d1)/(S*v*T_sqrt)\n",
    "        Vega = S * T_sqrt*norm.pdf(d1)\n",
    "        return Delta,Gamma,Vega\n",
    "    if CallPutFlag == 'p':\n",
    "        Delta = -norm.cdf(-d1)\n",
    "        Gamma = norm.pdf(d1)/(S*v*T_sqrt)\n",
    "        Vega = S * T_sqrt*norm.pdf(d1)\n",
    "        return Delta, Gamma, Vega\n",
    "\n",
    "print('At the money call:',Black_Scholes_Greeks('c', 100, 100, 0.5, 0, 0, 0.5),\n",
    "'\\nAt the money put:',Black_Scholes_Greeks('p', 100, 100, 0.5, 0, 0, 0.5),\n",
    "'\\nCall struck at 110:',Black_Scholes_Greeks('c', 100, 110, 0.5, 0, 0, 0.5),\n",
    "'\\nPut struck at 90',Black_Scholes_Greeks('p', 100, 90, 0.5, 0, 0, 0.5))"
   ]
  }
 ],
 "metadata": {
  "kernelspec": {
   "display_name": "Python 3",
   "language": "python",
   "name": "python3"
  },
  "language_info": {
   "codemirror_mode": {
    "name": "ipython",
    "version": 3
   },
   "file_extension": ".py",
   "mimetype": "text/x-python",
   "name": "python",
   "nbconvert_exporter": "python",
   "pygments_lexer": "ipython3",
   "version": "3.7.3"
  }
 },
 "nbformat": 4,
 "nbformat_minor": 2
}
